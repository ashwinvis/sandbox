{
 "cells": [
  {
   "cell_type": "markdown",
   "metadata": {},
   "source": [
    "# A Speed Comparison Of C, Julia, Python, Numba, and Cython on LU Factorization\n",
    "\n",
    "## [Jean-François Puget](https://www.ibm.com/developerworks/community/blogs/jfp?lang=en)\n",
    "\n",
    "The code in this notebook has been used to generate the results discussed in [A Speed Comparison Of C, Julia, Python, Numba, and Cython on LU Factorization](https://www.ibm.com/developerworks/community/blogs/jfp/entry/a_comparison_of_c_julia_python_numba_cython_scipy_and_blas_on_lu_factorization)\n",
    "\n",
    "\n",
    "This study was inspired by Sebastian F. Walter's [Speed comparision Numba vs C vs pure Python at the example of the LU factorization](http://expdesign.iwr.uni-heidelberg.de/people/swalter/blog/python_numba/index.html)\n",
    "\n",
    "Timingsheavily depend on the machine you use."
   ]
  },
  {
   "cell_type": "markdown",
   "metadata": {
    "collapsed": true
   },
   "source": [
    "We start with an import of useful packages."
   ]
  },
  {
   "cell_type": "code",
   "execution_count": 1,
   "metadata": {
    "collapsed": false
   },
   "outputs": [],
   "source": [
    "import numpy as np\n",
    "import pandas as pd\n",
    "import time\n",
    "from numpy.testing import *\n",
    "from scipy.linalg import *\n",
    "\n",
    "import gc\n",
    "from matplotlib import pyplot as plt\n",
    "%matplotlib inline\n",
    "\n",
    "from numba import jit, void, double"
   ]
  },
  {
   "cell_type": "markdown",
   "metadata": {},
   "source": [
    "### Pure Python"
   ]
  },
  {
   "cell_type": "code",
   "execution_count": 2,
   "metadata": {
    "collapsed": true
   },
   "outputs": [],
   "source": [
    "def det_by_lu(y, x):\n",
    "    y[0] = 1.\n",
    "\n",
    "    N = x.shape[0]\n",
    "    for k in range(N):\n",
    "        y[0] *= x[k,k]\n",
    "        for i in range(k+1, N):\n",
    "            x[i,k] /= x[k,k]\n",
    "            for j in range(k+1, N):\n",
    "                x[i,j] -= x[i,k] * x[k,j]"
   ]
  },
  {
   "cell_type": "code",
   "execution_count": 3,
   "metadata": {
    "collapsed": true
   },
   "outputs": [],
   "source": [
    "def run_python(A,B,y,N):\n",
    "\n",
    "    # check that result is correct\n",
    "    np.copyto(B,A)\n",
    "    det_by_lu(y, B)\n",
    "\n",
    "    L = np.tril(B, -1) + np.eye(N)\n",
    "    U = np.triu(B)\n",
    "    assert_almost_equal( L.dot(U),  A)\n",
    "    \n",
    "    gc.disable()\n",
    "    st = time.time()\n",
    "    \n",
    "    loops = 1 + (100000 // (N*N))\n",
    "    \n",
    "    for l in range(loops):\n",
    "        np.copyto(B,A)\n",
    "        det_by_lu(y, B)\n",
    "        \n",
    "    et = time.time()\n",
    "    gc.enable()\n",
    "    \n",
    "    return  (et - st)/loops"
   ]
  },
  {
   "cell_type": "markdown",
   "metadata": {},
   "source": [
    "### Numpy"
   ]
  },
  {
   "cell_type": "code",
   "execution_count": 4,
   "metadata": {
    "collapsed": true
   },
   "outputs": [],
   "source": [
    "def numpy_det_by_lu(y, x):\n",
    "    y[0] = 1.\n",
    "\n",
    "    N = x.shape[0]\n",
    "    with np.errstate(invalid='ignore'):\n",
    "        for k in range(N):\n",
    "            y[0] *= x[k,k]\n",
    "            xk = x[k]\n",
    "            for i in range(k+1, N):\n",
    "                xi = x[i]\n",
    "                xi[k] /= xk[k]\n",
    "                xi[k+1:] -= xi[k] * xk[k+1:]"
   ]
  },
  {
   "cell_type": "code",
   "execution_count": 5,
   "metadata": {
    "collapsed": true
   },
   "outputs": [],
   "source": [
    "def run_numpy(A,B,y,N):\n",
    "\n",
    "    # check that result is correct\n",
    "    np.copyto(B,A)\n",
    "    numpy_det_by_lu(y, B)\n",
    "\n",
    "    L = np.tril(B, -1) + np.eye(N)\n",
    "    U = np.triu(B)\n",
    "    assert_almost_equal( L.dot(U),  A)\n",
    "    \n",
    "    gc.disable()\n",
    "    st = time.time()\n",
    "    \n",
    "    loops = 1 + (100000 // (N*N))\n",
    "    \n",
    "    for l in range(loops):\n",
    "        np.copyto(B,A)\n",
    "        numpy_det_by_lu(y, B)\n",
    "        \n",
    "    et = time.time()\n",
    "    gc.enable()\n",
    "    \n",
    "    return  (et - st)/loops"
   ]
  },
  {
   "cell_type": "markdown",
   "metadata": {},
   "source": [
    "### Numba"
   ]
  },
  {
   "cell_type": "code",
   "execution_count": 6,
   "metadata": {
    "collapsed": false
   },
   "outputs": [],
   "source": [
    "def numba_det_by_lu(y, x):\n",
    "    y[0] = 1.\n",
    "\n",
    "    N = x.shape[0]\n",
    "    for k in range(N):\n",
    "        y[0] *= x[k,k]\n",
    "        for i in range(k+1, N):\n",
    "            x[i,k] /= x[k,k]\n",
    "            for j in range(k+1, N):\n",
    "                x[i,j] -= x[i,k] * x[k,j]\n",
    "            \n",
    "\n",
    "fastdet_by_lu = jit(void(double[:], double[:,:]))(numba_det_by_lu)"
   ]
  },
  {
   "cell_type": "code",
   "execution_count": 7,
   "metadata": {
    "collapsed": true
   },
   "outputs": [],
   "source": [
    "def run_numba(A,B,y,N):\n",
    "\n",
    "    # check that result is correct\n",
    "    np.copyto(B,A)\n",
    "    fastdet_by_lu(y, B)\n",
    "\n",
    "    L = np.tril(B, -1) + np.eye(N)\n",
    "    U = np.triu(B)\n",
    "    assert_almost_equal( L.dot(U),  A)\n",
    "    \n",
    "    gc.disable()\n",
    "    st = time.time()\n",
    "    \n",
    "    loops = 1 + min(1000000 // (N*N), 20000)\n",
    "    \n",
    "    for l in range(loops):\n",
    "        np.copyto(B,A)\n",
    "        fastdet_by_lu(y, B)\n",
    "        \n",
    "    et = time.time()\n",
    "    gc.enable()\n",
    "    \n",
    "    return  (et - st)/loops"
   ]
  },
  {
   "cell_type": "markdown",
   "metadata": {},
   "source": [
    "### Cython"
   ]
  },
  {
   "cell_type": "code",
   "execution_count": 8,
   "metadata": {
    "collapsed": false
   },
   "outputs": [],
   "source": [
    "%load_ext cython"
   ]
  },
  {
   "cell_type": "code",
   "execution_count": 9,
   "metadata": {
    "collapsed": false
   },
   "outputs": [],
   "source": [
    "%%cython\n",
    "\n",
    "import cython\n",
    "\n",
    "@cython.boundscheck(False)\n",
    "@cython.wraparound(False)\n",
    "cpdef cython_det_by_lu(double[:] y, double[:,:] x):\n",
    "    y[0] = 1.\n",
    "\n",
    "    cdef int N = x.shape[0]\n",
    "    cdef int i,j,k\n",
    "    \n",
    "    for k in range(N):\n",
    "        y[0] *= x[k,k]\n",
    "        for i in range(k+1, N):\n",
    "            x[i,k] /= x[k,k]\n",
    "            for j in range(k+1, N):\n",
    "                x[i,j] -= x[i,k] * x[k,j]"
   ]
  },
  {
   "cell_type": "code",
   "execution_count": 10,
   "metadata": {
    "collapsed": true
   },
   "outputs": [],
   "source": [
    "def run_cython(A,B,y,N):\n",
    "\n",
    "    # check that result is correct\n",
    "    np.copyto(B,A)\n",
    "    cython_det_by_lu(y, B)\n",
    "\n",
    "    L = np.tril(B, -1) + np.eye(N)\n",
    "    U = np.triu(B)\n",
    "    assert_almost_equal( L.dot(U),  A)\n",
    "    \n",
    "    gc.disable()\n",
    "    st = time.time()\n",
    "    \n",
    "    loops = 1 + min(1000000 // (N*N), 20000)\n",
    "    for l in range(loops):\n",
    "        np.copyto(B,A)\n",
    "        cython_det_by_lu(y, B)\n",
    "        \n",
    "    et = time.time()\n",
    "    gc.enable()\n",
    "    \n",
    "    return  (et - st)/loops"
   ]
  },
  {
   "cell_type": "markdown",
   "metadata": {
    "collapsed": true
   },
   "source": [
    "### C"
   ]
  },
  {
   "cell_type": "code",
   "execution_count": 11,
   "metadata": {
    "collapsed": false
   },
   "outputs": [],
   "source": [
    "from cffi import FFI\n",
    "ffi = FFI()\n",
    "ffi.cdef('void det_by_lu(double *y, double *B, int N);')\n",
    "C = ffi.dlopen(r\"C:\\Users\\IBM_ADMIN\\lu.dll\")\n",
    "c_det_by_lu = C.det_by_lu"
   ]
  },
  {
   "cell_type": "code",
   "execution_count": 12,
   "metadata": {
    "collapsed": false
   },
   "outputs": [],
   "source": [
    "def run_c(A,B,y,N):\n",
    "    # run c code\n",
    "    #B = numpy.zeros((N,N), order='F')\n",
    "    #B[:,:] = A\n",
    "    np.copyto(B,A)\n",
    "    c_det_by_lu(ffi.cast(\"double *\", y.ctypes.data),\n",
    "                ffi.cast(\"double *\", B.ctypes.data),\n",
    "                ffi.cast(\"int\", N))\n",
    "    \n",
    "    # check that result is correct\n",
    "    L = np.tril(B, -1) + np.eye(N)\n",
    "    U = np.triu(B)\n",
    "    assert_almost_equal( L.dot(U),  A)\n",
    "    \n",
    "    gc.disable()\n",
    "    st = time.time()\n",
    "    \n",
    "    loops = 1 + min(1000000 // (N*N), 20000)\n",
    "    \n",
    "    for l in range(loops):\n",
    "        np.copyto(B,A)\n",
    "        c_det_by_lu(ffi.cast(\"double *\", y.ctypes.data),\n",
    "                    ffi.cast(\"double *\", B.ctypes.data),\n",
    "                    ffi.cast(\"int\", N))\n",
    "        \n",
    "    et = time.time()\n",
    "    gc.enable()\n",
    "    \n",
    "    return  (et - st)/loops\n"
   ]
  },
  {
   "cell_type": "markdown",
   "metadata": {},
   "source": [
    "### Scipy "
   ]
  },
  {
   "cell_type": "code",
   "execution_count": 13,
   "metadata": {
    "collapsed": true
   },
   "outputs": [],
   "source": [
    "def run_scipy(A,B,y,N):\n",
    "\n",
    "    # check that result is correct\n",
    "    np.copyto(B,A)\n",
    "    (P,L,U) = lu(B,overwrite_a=True)\n",
    "\n",
    "    assert_almost_equal( P.dot(L.dot(U)),  A)\n",
    "    \n",
    "    gc.disable()\n",
    "    st = time.time()\n",
    "    \n",
    "    loops = 1 + min(1000000 // (N*N), 20000)\n",
    "\n",
    "    for l in range(loops):\n",
    "        np.copyto(B,A)\n",
    "        lu(B,overwrite_a=True)\n",
    "        \n",
    "    et = time.time()\n",
    "    gc.enable()\n",
    "    \n",
    "    return  (et - st)/loops"
   ]
  },
  {
   "cell_type": "markdown",
   "metadata": {},
   "source": [
    "### Lapack"
   ]
  },
  {
   "cell_type": "code",
   "execution_count": 14,
   "metadata": {
    "collapsed": true
   },
   "outputs": [],
   "source": [
    "def run_lapack(A,B,y,N):\n",
    "\n",
    "    # check that result is correct\n",
    "    \n",
    "    gc.disable()\n",
    "    st = time.time()\n",
    "    \n",
    "    loops = 1 + min(1000000 // (N*N), 20000)\n",
    "\n",
    "    for l in range(loops):\n",
    "        np.copyto(B,A)\n",
    "        lu_factor(B,overwrite_a=True)\n",
    "        \n",
    "    et = time.time()\n",
    "    gc.enable()\n",
    "    \n",
    "    return  (et - st)/loops"
   ]
  },
  {
   "cell_type": "markdown",
   "metadata": {},
   "source": [
    "### Timings"
   ]
  },
  {
   "cell_type": "code",
   "execution_count": 15,
   "metadata": {
    "collapsed": false
   },
   "outputs": [],
   "source": [
    "def timings(n=7, \\\n",
    "            series=['pure python', 'c', 'numba', 'numpy', \\\n",
    "                    'cython', 'scipy', 'lapack', 'julia']):\n",
    "    \n",
    "    Ns = np.array([5,10,30,100, 200, 300, 400, 600, 1000, 2000, 4000, 8000])\n",
    "    Fs = [run_python, run_c, run_numba, run_numpy, \\\n",
    "          run_cython, run_scipy, run_lapack]\n",
    "    times = pd.DataFrame(np.zeros((n, len(Fs)+1)), index = Ns[:n], columns = series)\n",
    "    for i,N in enumerate(Ns[:n]):\n",
    "        print ('N =', N, end=\" \")\n",
    "        A = np.random.random((N,N))\n",
    "        B = np.empty(A.shape)\n",
    "        y = np.zeros(1)\n",
    "        for j,label in enumerate(series[:-1]):\n",
    "            if label != '': \n",
    "                print(j, end=\" \")\n",
    "                times.loc[N,label] = Fs[j](A,B,y,N)\n",
    "        print('')\n",
    "    return times\n"
   ]
  },
  {
   "cell_type": "markdown",
   "metadata": {},
   "source": [
    "### Running the code"
   ]
  },
  {
   "cell_type": "code",
   "execution_count": 16,
   "metadata": {
    "collapsed": false
   },
   "outputs": [
    {
     "name": "stdout",
     "output_type": "stream",
     "text": [
      "N = 5 0 1 2 3 4 5 6 \n",
      "N = 10 0 1 2 3 4 5 6 \n",
      "N = 30 0 1 2 3 4 5 6 \n",
      "N = 100 0 1 2 3 4 5 6 \n",
      "N = 200 0 1 2 3 4 5 6 \n",
      "N = 300 0 1 2 3 4 5 6 \n",
      "N = 400 0 1 2 3 4 5 6 \n",
      "N = 600 0 1 2 3 4 5 6 \n",
      "N = 1000 0 1 2 3 4 5 6 \n"
     ]
    }
   ],
   "source": [
    "times = timings(9)"
   ]
  },
  {
   "cell_type": "markdown",
   "metadata": {},
   "source": [
    "### Checking results"
   ]
  },
  {
   "cell_type": "code",
   "execution_count": 17,
   "metadata": {
    "collapsed": false
   },
   "outputs": [
    {
     "data": {
      "text/html": [
       "<div>\n",
       "<table border=\"1\" class=\"dataframe\">\n",
       "  <thead>\n",
       "    <tr style=\"text-align: right;\">\n",
       "      <th></th>\n",
       "      <th>pure python</th>\n",
       "      <th>c</th>\n",
       "      <th>numba</th>\n",
       "      <th>numpy</th>\n",
       "      <th>cython</th>\n",
       "      <th>scipy</th>\n",
       "      <th>lapack</th>\n",
       "      <th>julia</th>\n",
       "    </tr>\n",
       "  </thead>\n",
       "  <tbody>\n",
       "    <tr>\n",
       "      <th>5</th>\n",
       "      <td>0.000051</td>\n",
       "      <td>0.000016</td>\n",
       "      <td>0.000002</td>\n",
       "      <td>0.000074</td>\n",
       "      <td>0.000006</td>\n",
       "      <td>0.000029</td>\n",
       "      <td>0.000031</td>\n",
       "      <td>0</td>\n",
       "    </tr>\n",
       "    <tr>\n",
       "      <th>10</th>\n",
       "      <td>0.000312</td>\n",
       "      <td>0.000016</td>\n",
       "      <td>0.000003</td>\n",
       "      <td>0.000234</td>\n",
       "      <td>0.000006</td>\n",
       "      <td>0.000030</td>\n",
       "      <td>0.000031</td>\n",
       "      <td>0</td>\n",
       "    </tr>\n",
       "    <tr>\n",
       "      <th>30</th>\n",
       "      <td>0.007800</td>\n",
       "      <td>0.000028</td>\n",
       "      <td>0.000014</td>\n",
       "      <td>0.001950</td>\n",
       "      <td>0.000014</td>\n",
       "      <td>0.000070</td>\n",
       "      <td>0.000056</td>\n",
       "      <td>0</td>\n",
       "    </tr>\n",
       "    <tr>\n",
       "      <th>100</th>\n",
       "      <td>0.289310</td>\n",
       "      <td>0.000154</td>\n",
       "      <td>0.000463</td>\n",
       "      <td>0.029782</td>\n",
       "      <td>0.000309</td>\n",
       "      <td>0.000309</td>\n",
       "      <td>0.000309</td>\n",
       "      <td>0</td>\n",
       "    </tr>\n",
       "    <tr>\n",
       "      <th>200</th>\n",
       "      <td>2.277604</td>\n",
       "      <td>0.001800</td>\n",
       "      <td>0.007200</td>\n",
       "      <td>0.119600</td>\n",
       "      <td>0.003600</td>\n",
       "      <td>0.001200</td>\n",
       "      <td>0.001200</td>\n",
       "      <td>0</td>\n",
       "    </tr>\n",
       "    <tr>\n",
       "      <th>300</th>\n",
       "      <td>7.636214</td>\n",
       "      <td>0.007800</td>\n",
       "      <td>0.019500</td>\n",
       "      <td>0.226200</td>\n",
       "      <td>0.007800</td>\n",
       "      <td>0.003900</td>\n",
       "      <td>0.001300</td>\n",
       "      <td>0</td>\n",
       "    </tr>\n",
       "    <tr>\n",
       "      <th>400</th>\n",
       "      <td>18.267632</td>\n",
       "      <td>0.017829</td>\n",
       "      <td>0.051257</td>\n",
       "      <td>0.514801</td>\n",
       "      <td>0.020057</td>\n",
       "      <td>0.008914</td>\n",
       "      <td>0.002229</td>\n",
       "      <td>0</td>\n",
       "    </tr>\n",
       "    <tr>\n",
       "      <th>600</th>\n",
       "      <td>62.197309</td>\n",
       "      <td>0.062400</td>\n",
       "      <td>0.124800</td>\n",
       "      <td>0.982802</td>\n",
       "      <td>0.088400</td>\n",
       "      <td>0.036400</td>\n",
       "      <td>0.010400</td>\n",
       "      <td>0</td>\n",
       "    </tr>\n",
       "    <tr>\n",
       "      <th>1000</th>\n",
       "      <td>290.472510</td>\n",
       "      <td>0.257401</td>\n",
       "      <td>0.569401</td>\n",
       "      <td>3.042005</td>\n",
       "      <td>0.288600</td>\n",
       "      <td>0.070200</td>\n",
       "      <td>0.039000</td>\n",
       "      <td>0</td>\n",
       "    </tr>\n",
       "  </tbody>\n",
       "</table>\n",
       "</div>"
      ],
      "text/plain": [
       "      pure python         c     numba     numpy    cython     scipy    lapack  \\\n",
       "5        0.000051  0.000016  0.000002  0.000074  0.000006  0.000029  0.000031   \n",
       "10       0.000312  0.000016  0.000003  0.000234  0.000006  0.000030  0.000031   \n",
       "30       0.007800  0.000028  0.000014  0.001950  0.000014  0.000070  0.000056   \n",
       "100      0.289310  0.000154  0.000463  0.029782  0.000309  0.000309  0.000309   \n",
       "200      2.277604  0.001800  0.007200  0.119600  0.003600  0.001200  0.001200   \n",
       "300      7.636214  0.007800  0.019500  0.226200  0.007800  0.003900  0.001300   \n",
       "400     18.267632  0.017829  0.051257  0.514801  0.020057  0.008914  0.002229   \n",
       "600     62.197309  0.062400  0.124800  0.982802  0.088400  0.036400  0.010400   \n",
       "1000   290.472510  0.257401  0.569401  3.042005  0.288600  0.070200  0.039000   \n",
       "\n",
       "      julia  \n",
       "5         0  \n",
       "10        0  \n",
       "30        0  \n",
       "100       0  \n",
       "200       0  \n",
       "300       0  \n",
       "400       0  \n",
       "600       0  \n",
       "1000      0  "
      ]
     },
     "execution_count": 17,
     "metadata": {},
     "output_type": "execute_result"
    }
   ],
   "source": [
    "times"
   ]
  },
  {
   "cell_type": "markdown",
   "metadata": {},
   "source": [
    "### Adding Julia timings.\n",
    "\n",
    "Here is the output of the julia code\n",
    "```\n",
    "400000//1  0.249989 seconds (13 allocations: 576 bytes)\n",
    "100000//1  0.127597 seconds (13 allocations: 576 bytes)\n",
    "100000//9  0.177901 seconds (13 allocations: 576 bytes)\n",
    "1000//1  0.484114 seconds (13 allocations: 576 bytes)\n",
    "250//1  0.902625 seconds (13 allocations: 576 bytes)\n",
    "1000//9  1.325684 seconds (13 allocations: 576 bytes)\n",
    "125//2  1.729400 seconds (13 allocations: 576 bytes)\n",
    "250//9  2.650419 seconds (13 allocations: 576 bytes)\n",
    "10//1  5.208197 seconds (13 allocations: 576 bytes)```\n",
    "\n",
    "Massaging data a bit yileds these timings. "
   ]
  },
  {
   "cell_type": "code",
   "execution_count": 18,
   "metadata": {
    "collapsed": true
   },
   "outputs": [],
   "source": [
    "julia_times = [6.0914E-07, 1.06071E-06, 9.08208E-06, 0.000226553, 0.001740604, \n",
    "0.005823171, 0.013721355, 0.045432148, 0.2642414, 2.728702]"
   ]
  },
  {
   "cell_type": "markdown",
   "metadata": {},
   "source": [
    "We add these into our timings data frame"
   ]
  },
  {
   "cell_type": "code",
   "execution_count": 19,
   "metadata": {
    "collapsed": false
   },
   "outputs": [],
   "source": [
    "M = min(len(julia_times),times.shape[0])\n",
    "times['julia'] = julia_times[:M]"
   ]
  },
  {
   "cell_type": "markdown",
   "metadata": {},
   "source": [
    "Checking results again"
   ]
  },
  {
   "cell_type": "code",
   "execution_count": 20,
   "metadata": {
    "collapsed": false
   },
   "outputs": [
    {
     "data": {
      "text/html": [
       "<div>\n",
       "<table border=\"1\" class=\"dataframe\">\n",
       "  <thead>\n",
       "    <tr style=\"text-align: right;\">\n",
       "      <th></th>\n",
       "      <th>pure python</th>\n",
       "      <th>c</th>\n",
       "      <th>numba</th>\n",
       "      <th>numpy</th>\n",
       "      <th>cython</th>\n",
       "      <th>scipy</th>\n",
       "      <th>lapack</th>\n",
       "      <th>julia</th>\n",
       "    </tr>\n",
       "  </thead>\n",
       "  <tbody>\n",
       "    <tr>\n",
       "      <th>5</th>\n",
       "      <td>0.000051</td>\n",
       "      <td>0.000016</td>\n",
       "      <td>0.000002</td>\n",
       "      <td>0.000074</td>\n",
       "      <td>0.000006</td>\n",
       "      <td>0.000029</td>\n",
       "      <td>0.000031</td>\n",
       "      <td>6.091400e-07</td>\n",
       "    </tr>\n",
       "    <tr>\n",
       "      <th>10</th>\n",
       "      <td>0.000312</td>\n",
       "      <td>0.000016</td>\n",
       "      <td>0.000003</td>\n",
       "      <td>0.000234</td>\n",
       "      <td>0.000006</td>\n",
       "      <td>0.000030</td>\n",
       "      <td>0.000031</td>\n",
       "      <td>1.060710e-06</td>\n",
       "    </tr>\n",
       "    <tr>\n",
       "      <th>30</th>\n",
       "      <td>0.007800</td>\n",
       "      <td>0.000028</td>\n",
       "      <td>0.000014</td>\n",
       "      <td>0.001950</td>\n",
       "      <td>0.000014</td>\n",
       "      <td>0.000070</td>\n",
       "      <td>0.000056</td>\n",
       "      <td>9.082080e-06</td>\n",
       "    </tr>\n",
       "    <tr>\n",
       "      <th>100</th>\n",
       "      <td>0.289310</td>\n",
       "      <td>0.000154</td>\n",
       "      <td>0.000463</td>\n",
       "      <td>0.029782</td>\n",
       "      <td>0.000309</td>\n",
       "      <td>0.000309</td>\n",
       "      <td>0.000309</td>\n",
       "      <td>2.265530e-04</td>\n",
       "    </tr>\n",
       "    <tr>\n",
       "      <th>200</th>\n",
       "      <td>2.277604</td>\n",
       "      <td>0.001800</td>\n",
       "      <td>0.007200</td>\n",
       "      <td>0.119600</td>\n",
       "      <td>0.003600</td>\n",
       "      <td>0.001200</td>\n",
       "      <td>0.001200</td>\n",
       "      <td>1.740604e-03</td>\n",
       "    </tr>\n",
       "    <tr>\n",
       "      <th>300</th>\n",
       "      <td>7.636214</td>\n",
       "      <td>0.007800</td>\n",
       "      <td>0.019500</td>\n",
       "      <td>0.226200</td>\n",
       "      <td>0.007800</td>\n",
       "      <td>0.003900</td>\n",
       "      <td>0.001300</td>\n",
       "      <td>5.823171e-03</td>\n",
       "    </tr>\n",
       "    <tr>\n",
       "      <th>400</th>\n",
       "      <td>18.267632</td>\n",
       "      <td>0.017829</td>\n",
       "      <td>0.051257</td>\n",
       "      <td>0.514801</td>\n",
       "      <td>0.020057</td>\n",
       "      <td>0.008914</td>\n",
       "      <td>0.002229</td>\n",
       "      <td>1.372135e-02</td>\n",
       "    </tr>\n",
       "    <tr>\n",
       "      <th>600</th>\n",
       "      <td>62.197309</td>\n",
       "      <td>0.062400</td>\n",
       "      <td>0.124800</td>\n",
       "      <td>0.982802</td>\n",
       "      <td>0.088400</td>\n",
       "      <td>0.036400</td>\n",
       "      <td>0.010400</td>\n",
       "      <td>4.543215e-02</td>\n",
       "    </tr>\n",
       "    <tr>\n",
       "      <th>1000</th>\n",
       "      <td>290.472510</td>\n",
       "      <td>0.257401</td>\n",
       "      <td>0.569401</td>\n",
       "      <td>3.042005</td>\n",
       "      <td>0.288600</td>\n",
       "      <td>0.070200</td>\n",
       "      <td>0.039000</td>\n",
       "      <td>2.642414e-01</td>\n",
       "    </tr>\n",
       "  </tbody>\n",
       "</table>\n",
       "</div>"
      ],
      "text/plain": [
       "      pure python         c     numba     numpy    cython     scipy    lapack  \\\n",
       "5        0.000051  0.000016  0.000002  0.000074  0.000006  0.000029  0.000031   \n",
       "10       0.000312  0.000016  0.000003  0.000234  0.000006  0.000030  0.000031   \n",
       "30       0.007800  0.000028  0.000014  0.001950  0.000014  0.000070  0.000056   \n",
       "100      0.289310  0.000154  0.000463  0.029782  0.000309  0.000309  0.000309   \n",
       "200      2.277604  0.001800  0.007200  0.119600  0.003600  0.001200  0.001200   \n",
       "300      7.636214  0.007800  0.019500  0.226200  0.007800  0.003900  0.001300   \n",
       "400     18.267632  0.017829  0.051257  0.514801  0.020057  0.008914  0.002229   \n",
       "600     62.197309  0.062400  0.124800  0.982802  0.088400  0.036400  0.010400   \n",
       "1000   290.472510  0.257401  0.569401  3.042005  0.288600  0.070200  0.039000   \n",
       "\n",
       "             julia  \n",
       "5     6.091400e-07  \n",
       "10    1.060710e-06  \n",
       "30    9.082080e-06  \n",
       "100   2.265530e-04  \n",
       "200   1.740604e-03  \n",
       "300   5.823171e-03  \n",
       "400   1.372135e-02  \n",
       "600   4.543215e-02  \n",
       "1000  2.642414e-01  "
      ]
     },
     "execution_count": 20,
     "metadata": {},
     "output_type": "execute_result"
    }
   ],
   "source": [
    "times"
   ]
  },
  {
   "cell_type": "markdown",
   "metadata": {},
   "source": [
    "### Display"
   ]
  },
  {
   "cell_type": "code",
   "execution_count": 21,
   "metadata": {
    "collapsed": false
   },
   "outputs": [],
   "source": [
    "def plot_times(times, \n",
    "               cols = [],\\\n",
    "               name=\"runtimes.png\"):\n",
    "    plt.figure(figsize=(7,5))\n",
    "    if cols == []:\n",
    "        cols = times.columns\n",
    "    for i,label in enumerate(cols):\n",
    "        if label != '':\n",
    "            plt.loglog(times.index, times[label], label=label)\n",
    "    plt.xlabel(\"N (matrix size)\")\n",
    "    plt.ylabel(\"runtime [sec]\")\n",
    "    plt.grid()\n",
    "    plt.legend(loc=2)\n",
    "    plt.savefig(name)\n",
    "    plt.show()"
   ]
  },
  {
   "cell_type": "code",
   "execution_count": 22,
   "metadata": {
    "collapsed": false
   },
   "outputs": [
    {
     "data": {
      "image/png": "[encoded data removed]",
      "text/plain": [
       "<matplotlib.figure.Figure at 0xb17e7b8>"
      ]
     },
     "metadata": {},
     "output_type": "display_data"
    }
   ],
   "source": [
    "plot_times(times, cols=['pure python', 'c', 'numba'], name='runtimes_1')"
   ]
  },
  {
   "cell_type": "code",
   "execution_count": 23,
   "metadata": {
    "collapsed": false
   },
   "outputs": [
    {
     "data": {
      "image/png": "[encoded data removed]",
      "text/plain": [
       "<matplotlib.figure.Figure at 0xbcd9c88>"
      ]
     },
     "metadata": {},
     "output_type": "display_data"
    }
   ],
   "source": [
    "plot_times(times, cols=['pure python', 'c', 'cython'], name='runtimes_2')"
   ]
  },
  {
   "cell_type": "code",
   "execution_count": 24,
   "metadata": {
    "collapsed": false
   },
   "outputs": [
    {
     "data": {
      "image/png": "[encoded data removed]",
      "text/plain": [
       "<matplotlib.figure.Figure at 0xd4e4ef0>"
      ]
     },
     "metadata": {},
     "output_type": "display_data"
    }
   ],
   "source": [
    "plot_times(times, cols=['pure python', 'c', 'numpy'], name='runtimes_3')"
   ]
  },
  {
   "cell_type": "code",
   "execution_count": 25,
   "metadata": {
    "collapsed": false
   },
   "outputs": [
    {
     "data": {
      "image/png": "[encoded data removed]",
      "text/plain": [
       "<matplotlib.figure.Figure at 0xbd40828>"
      ]
     },
     "metadata": {},
     "output_type": "display_data"
    }
   ],
   "source": [
    "plot_times(times, cols=['pure python', 'c', 'scipy', 'lapack'], name='runtimes_4')"
   ]
  },
  {
   "cell_type": "code",
   "execution_count": 26,
   "metadata": {
    "collapsed": false
   },
   "outputs": [
    {
     "data": {
      "image/png": "[encoded data removed]",
      "text/plain": [
       "<matplotlib.figure.Figure at 0xd50ba58>"
      ]
     },
     "metadata": {},
     "output_type": "display_data"
    }
   ],
   "source": [
    "plot_times(times, cols=['pure python', 'c', 'julia'], name='runtimes_5')"
   ]
  }
 ],
 "metadata": {
  "kernelspec": {
   "display_name": "Python 3",
   "language": "python",
   "name": "python3"
  },
  "language_info": {
   "codemirror_mode": {
    "name": "ipython",
    "version": 3
   },
   "file_extension": ".py",
   "mimetype": "text/x-python",
   "name": "python",
   "nbconvert_exporter": "python",
   "pygments_lexer": "ipython3",
   "version": "3.5.1"
  }
 },
 "nbformat": 4,
 "nbformat_minor": 0
}
