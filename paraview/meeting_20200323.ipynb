{
 "cells": [
  {
   "cell_type": "markdown",
   "metadata": {},
   "source": [
    "# Turbulence statistics and boundary conditions"
   ]
  },
  {
   "cell_type": "markdown",
   "metadata": {
    "slideshow": {
     "slide_type": "slide"
    }
   },
   "source": [
    "## Statistics"
   ]
  },
  {
   "cell_type": "markdown",
   "metadata": {
    "slideshow": {
     "slide_type": "slide"
    }
   },
   "source": [
    "### RMS velocity and momentum flux\n",
    "\n",
    "![](output/all2.png)"
   ]
  },
  {
   "cell_type": "markdown",
   "metadata": {
    "slideshow": {
     "slide_type": "slide"
    }
   },
   "source": [
    "## Boundary conditions verification"
   ]
  },
  {
   "cell_type": "markdown",
   "metadata": {
    "slideshow": {
     "slide_type": "slide"
    }
   },
   "source": [
    "### Wall normal velocity \n",
    "\n",
    "* No penetration condition appears to be enforced\n",
    "\n",
    "$$ w=0 \\text{ at } z=0$$\n",
    "\n",
    "![w vs z](output/w_z.png)"
   ]
  },
  {
   "cell_type": "markdown",
   "metadata": {
    "slideshow": {
     "slide_type": "slide"
    }
   },
   "source": [
    "### Wall shear stress\n",
    "\n",
    "![](output/tau_most.png)"
   ]
  },
  {
   "cell_type": "markdown",
   "metadata": {
    "slideshow": {
     "slide_type": "slide"
    }
   },
   "source": [
    "### Wall shear stress estimate\n",
    "\n",
    "\n",
    "![](http://glossary.ametsoc.org/w/images/7/75/Ams2001glos-Fe18.gif)\n",
    "$$\\tau / \\rho = u^{*2}$$\n",
    "![](output/tau_turb_z1.png)"
   ]
  },
  {
   "cell_type": "markdown",
   "metadata": {
    "slideshow": {
     "slide_type": "slide"
    }
   },
   "source": [
    "### Wall shear stress estimate\n",
    "\n",
    "\n",
    "![](http://glossary.ametsoc.org/w/images/7/75/Ams2001glos-Fe18.gif)\n",
    "$$\\tau / \\rho = u^{*2}$$\n",
    "\n",
    "![](output/tau_turb_z2.png)"
   ]
  },
  {
   "cell_type": "markdown",
   "metadata": {
    "slideshow": {
     "slide_type": "slide"
    }
   },
   "source": [
    "## Implementation in Nek5000"
   ]
  },
  {
   "cell_type": "markdown",
   "metadata": {
    "slideshow": {
     "slide_type": "slide"
    }
   },
   "source": [
    "### Time stepping: BDF2/EXT2 $(O(\\Delta t^2))$ & BDF3/EXT3 $(O(\\Delta t^3))$\n",
    "\n",
    "Source: Nek5000 tutorial, P. Fischer\n",
    "![](output/nek_bdf2.png)"
   ]
  },
  {
   "cell_type": "markdown",
   "metadata": {
    "slideshow": {
     "slide_type": "slide"
    }
   },
   "source": [
    "### Time stepping of incompressible Navier-Stokes equation\n",
    "\n",
    "Semi explicit, explicit for convection terms\n",
    "\n",
    "Source: Couzy 1995\n",
    "\n",
    "![](output/nek_timestep.png)\n",
    "![](output/nek_timestep2.png)"
   ]
  }
 ],
 "metadata": {
  "kernelspec": {
   "display_name": "py-eturb",
   "language": "python",
   "name": "py-eturb"
  },
  "language_info": {
   "codemirror_mode": {
    "name": "ipython",
    "version": 3
   },
   "file_extension": ".py",
   "mimetype": "text/x-python",
   "name": "python",
   "nbconvert_exporter": "python",
   "pygments_lexer": "ipython3",
   "version": "3.8.2"
  }
 },
 "nbformat": 4,
 "nbformat_minor": 4
}
